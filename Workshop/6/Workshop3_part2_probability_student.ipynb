{
  "nbformat": 4,
  "nbformat_minor": 0,
  "metadata": {
    "kernelspec": {
      "display_name": "Python 3",
      "language": "python",
      "name": "python3"
    },
    "language_info": {
      "codemirror_mode": {
        "name": "ipython",
        "version": 3
      },
      "file_extension": ".py",
      "mimetype": "text/x-python",
      "name": "python",
      "nbconvert_exporter": "python",
      "pygments_lexer": "ipython3",
      "version": "3.7.3"
    },
    "colab": {
      "name": "Workshop3_part2_probability_student.ipynb",
      "provenance": [],
      "collapsed_sections": []
    }
  },
  "cells": [
    {
      "cell_type": "markdown",
      "metadata": {
        "id": "66jSR5wTzMzm"
      },
      "source": [
        "# Workshop3 _Part2 Probability programming\n",
        "![title](https://github.com/Mixelon-tera/Workshop7_Simulation/blob/master/imgs/probability.png?raw=1)\n",
        "\n",
        "## สูตรสถิติเบื้องต้น\n",
        "![title](https://github.com/Mixelon-tera/Workshop7_Simulation/blob/master/imgs/prob_remind1.PNG?raw=1)\n",
        "\n",
        "# TO DO1: โยนเหรียญบาท(เที่ยงตรง)1เหรียญ 10 ครั้ง จงหาความน่าจะเป็นที่จะได้หัวอย่างน้อย 2 ครั้งติดกันคิดเป็นกี่เปอร์เซ็น\n",
        "![title](https://github.com/Mixelon-tera/Workshop7_Simulation/blob/master/imgs/prob_todo_1.PNG?raw=1)"
      ]
    },
    {
      "cell_type": "markdown",
      "metadata": {
        "id": "WefqAsKuXVOI"
      },
      "source": [
        "TO DO 1.1"
      ]
    },
    {
      "cell_type": "markdown",
      "metadata": {
        "id": "PUMGR3s2zMzo"
      },
      "source": [
        "![title](https://github.com/Mixelon-tera/Workshop7_Simulation/blob/master/imgs/prob_todo_1_ans.PNG?raw=1)"
      ]
    },
    {
      "cell_type": "code",
      "metadata": {
        "scrolled": true,
        "id": "vi4wTNgMzMzp"
      },
      "source": [
        "''' \n",
        "    0 : Head (หัว)\n",
        "    1 : Tail (ก้อย)\n",
        "    \n",
        "    step 1\n",
        "    - แปลงเลขฐานสิบเป็นฐาน2ด้วยฟังก์ชัน bin(arg1) โดย arg1 คือ Integer ที่ถูกส่งเข้าไป และคืนค่ากลับมาเป็น binary string\n",
        "        \n",
        "    \n",
        "    - สร้าง Dict ขึ้นมาเก็บค่า Key และ Value โดยกำหนดให้:\n",
        "        key คือ ลำดับของความน่าจะเป็น เช่น 0,1,2,3,4,5,...\n",
        "        value คือ ค่าของผลลัพธ์จากการโยนเหรียญบาท 1 เหรียญ 10 ครั้ง เช่น '0000000000', '0000000001', ...\n",
        "  \n",
        "    - แสดงผลค่าของ Dict ออกทางหน้าจอ\n",
        "'''\n",
        "#Example of bin() function\n",
        "number = 5\n",
        "print('เลขฐาน2ของ 5 คือ :', bin(number))\n",
        "\n",
        "#Write code below please.\n"
      ],
      "execution_count": null,
      "outputs": []
    },
    {
      "cell_type": "markdown",
      "metadata": {
        "id": "98GEANsgzMzt"
      },
      "source": [
        "# TO DO1.2 :  แสดงผลลัพธ์ออกทางหน้าจอตามภาพข้างล่าง\n",
        "\n",
        "![title](https://github.com/Mixelon-tera/Workshop7_Simulation/blob/master/imgs/prob_todo_1_ans2.PNG?raw=1)\n",
        "### ถ้าในรอบใดๆที่ไม่เจอว่าเหรียญบาทออกหัวอย่างน้อย 2 ครั้้งติดกัน โปรแกรมจะแสดงผลแบบนี้\n",
        "![title](https://github.com/Mixelon-tera/Workshop7_Simulation/blob/master/imgs/prob_todo_1_ans3.PNG?raw=1)\n",
        "### แสดงผล3อย่างสุดท้าย\n",
        "![title](https://github.com/Mixelon-tera/Workshop7_Simulation/blob/master/imgs/prob_todo_1_ans4_new.PNG?raw=1)"
      ]
    },
    {
      "cell_type": "code",
      "metadata": {
        "id": "3kA3J7VUzMzt"
      },
      "source": [
        "''' \n",
        "    0 : Head (หัว)\n",
        "    1 : Tail (ก้อย)\n",
        "'''\n",
        "\n",
        "count = 0\n",
        "#Write code below please.\n"
      ],
      "execution_count": null,
      "outputs": []
    },
    {
      "cell_type": "markdown",
      "metadata": {
        "id": "oDFKmi_VzMzx"
      },
      "source": [
        "# TO DO2: กำหนดให้ลูกเต๋าสวรรค์มีจำนวนหน้าทั้งหมด 256 หน้า ถ้าจะทอยลูกเต๋าสวรรค์ 2 ลูก จงหาความน่าจะเป็นที่ได้แต้มของ 2 ลูกรวมกันมากกว่า 128\n",
        "\n",
        "![title](https://github.com/Mixelon-tera/Workshop7_Simulation/blob/master/imgs/prob_todo_3.PNG?raw=1)"
      ]
    },
    {
      "cell_type": "markdown",
      "metadata": {
        "id": "1r4rq5I7zMzx"
      },
      "source": [
        "## หาแซมเปิ้ลสเปซทั้งหมดของการทอยลูกเต๋าสวรรค์2ลูก\n",
        "\n",
        "![title](https://github.com/Mixelon-tera/Workshop7_Simulation/blob/master/imgs/prob_todo_3_1.PNG?raw=1)\n",
        "### ใช้ Tuple ในการเก็บหน้าของลูกเต๋าทั้ง 2 ลูก\n"
      ]
    },
    {
      "cell_type": "code",
      "metadata": {
        "id": "bNeNnHVczMzy"
      },
      "source": [
        "#Write code below please.\n"
      ],
      "execution_count": null,
      "outputs": []
    },
    {
      "cell_type": "markdown",
      "metadata": {
        "id": "YBH-pe9UzMz0"
      },
      "source": [
        "## หาจำนวนครั้งของโอกาสที่ได้แต้มของ 2 ลูกรวมกันมากกว่า 128 และแสดงผลจำนวนครั้งเหล่านั้นออกทางหน้าจอ\n",
        "\n",
        "![title](https://github.com/Mixelon-tera/Workshop7_Simulation/blob/master/imgs/prob_todo_3_2.PNG?raw=1)\n"
      ]
    },
    {
      "cell_type": "code",
      "metadata": {
        "id": "GbDUev4QzMz0"
      },
      "source": [
        "#Write code below please.\n"
      ],
      "execution_count": null,
      "outputs": []
    },
    {
      "cell_type": "markdown",
      "metadata": {
        "id": "CEc1VaQAzMz3"
      },
      "source": [
        "## หาความน่าจะเป็นที่ได้แต้มของ 2 ลูกรวมกันมากกว่า 128 คิดเป็นกี่เปอร์เซ็นต์\n",
        "\n",
        "![title](https://github.com/Mixelon-tera/Workshop7_Simulation/blob/master/imgs/prob_todo_3_3.PNG?raw=1)"
      ]
    },
    {
      "cell_type": "code",
      "metadata": {
        "scrolled": true,
        "id": "3kaVYh8yzMz3"
      },
      "source": [
        "#Write code below please.\n",
        "print('เข้าสูตรตามสเต็ปปป')\n"
      ],
      "execution_count": null,
      "outputs": []
    },
    {
      "cell_type": "markdown",
      "metadata": {
        "id": "fuCf0r19zMz6"
      },
      "source": [
        "## TODO 3: Monte Carlo Markov Chain Simulation สำหรับหุ้น\n",
        "\n",
        "เราจะสร้าง simulation เพื่อดูความเป็นได้ในการลงทุนกับหุ้น APPL <br>\n",
        "หุ้นเติบโตวันละ 0.515% โดยเฉลี่ย ละมีค่า standard deviation 0.03 <br>\n",
        "เราจะโมเดลราคาของแต่ละวันของตลาดหุ้นโดยการสุ่มค่าความเติบโต x จากตัวเลขระหว่าง 0.95 ถึง 1.053 <br>\n",
        "โดยราคาปิดของแต่ละวันจะขึ้นกับราคาของวันก่อนหน้า <br>\n",
        "  ราคาวันปัจจุบัน =  x * ราคาวันก่อนหน้า <br>\n",
        "ทำการจำลองราคาหุ้น APPL โดยสมมติว่ามีเวลา 20 วัน และราคาเริ่มต้นอยู่ที่ 100 บาท <br>\n",
        "ทำการจำลองทั้งหมด 1000　ครั้ง\n",
        "\n",
        "เราสามารถสุ่มตัวเลขได้โดยคำสั่ง <br>\n",
        "random.random() ให้ได้เลขระหว่าง 0 ถึง 1 (ต้อง import random ก่อน)\n",
        "\n",
        "ทำอย่างไรให้ได้เลขระหว่าง 0.95 ถึง 1.053 จากกระบวนการดังกล่าว?\n",
        "\n",
        "(ลองคิดดูว่าทำอย่างไรให้เลขระหว่าง 0 ถึง 1 กลายเป็น 2 ถึง 6)"
      ]
    },
    {
      "cell_type": "markdown",
      "metadata": {
        "id": "cMDibZwtzMz6"
      },
      "source": [
        "จงแสดงการเปลี่ยนแปลงแต่ละครั้งเป็นกราฟ <br>\n",
        "สมมติว่าจำลองมาได้สามแบบ <br>\n",
        "[100, 110, 120] <br>\n",
        "[100, 90, 101] <br>\n",
        "[100, 80, 200] <br>\n",
        "สามารถพล็อตได้โดย"
      ]
    },
    {
      "cell_type": "code",
      "metadata": {
        "id": "nlBi_BO4zMz7"
      },
      "source": [
        "import matplotlib.pyplot as plt\n",
        "plt.plot([100, 110, 120])\n",
        "plt.plot([100, 90, 101])\n",
        "plt.plot([100, 80, 200])\n",
        "plt.show()"
      ],
      "execution_count": null,
      "outputs": []
    },
    {
      "cell_type": "code",
      "metadata": {
        "id": "R17C22axzMz-"
      },
      "source": [
        "#เขียนโค้ดตรงนี้\n"
      ],
      "execution_count": null,
      "outputs": []
    },
    {
      "cell_type": "markdown",
      "metadata": {
        "id": "W3peqBwHzM0B"
      },
      "source": [
        "นำราคาสุดท้ายมาพล็อตเพื่อดูการกระจาย \n",
        "ถ้า finalprice เป็น list ของราคาสุดท้ายของการ simulate พันครั้ง \n",
        "สามารถพล็อต histogram ของราคาสุดท้ายได้โดย \n",
        "plt.hist(finalprice,bins=10)"
      ]
    },
    {
      "cell_type": "code",
      "metadata": {
        "id": "oB2TFnq6zM0B"
      },
      "source": [
        "#เขียนโค้ดตรงนี้\n"
      ],
      "execution_count": null,
      "outputs": []
    },
    {
      "cell_type": "markdown",
      "metadata": {
        "id": "fJgW7Z0pzM0D"
      },
      "source": [
        "ตัวอย่างคำตอบ<br>\n",
        "![title](https://github.com/Mixelon-tera/Workshop7_Simulation/blob/master/imgs/stockmovement.png?raw=1) ![title](https://github.com/Mixelon-tera/Workshop7_Simulation/blob/master/imgs/finalpricehist.png?raw=1) "
      ]
    },
    {
      "cell_type": "markdown",
      "metadata": {
        "id": "k9zdsBYZzM0E"
      },
      "source": [
        "## TODO 4: Random Walk\n",
        "\n",
        "มี computer 10 เครื่องที่ทำการแลกเปลี่ยนข้อมูลซึ่งกันและกัน คอมพิวเตอร์แต่ละคู่จะคุยกันเพื่อแลกเปลี่ยนข้อมูลด้วยความน่าจะเป็นตามที่กำหนดด้วย list ที่ชื่อ Transition ด้านล่าง\n",
        "\n",
        "โดย Transition[3][0] หมายถึงความน่าจะเป็นที่คอมเครื่องที่ 3 จะและเปลี่ยนข้อมูลกับเครื่องที่ 0\n",
        "\n",
        "จงทำ simulation จำนวนหนึ่งแสนครั้ง ครั้งละหนึ่งพันรอบ และเก็บบันทึกเครื่องคอมพิวเตอร์ที่เกิดการแลกเปลี่ยนครั้งล่าสุดเอาไว้ เพื่อหาว่าความน่าจะเป็นของข้อมูลล่าสุดว่าอยู่ที่เครื่องใด\n",
        "\n",
        "ใช้คำสั่ง\n",
        "random.random()\n",
        "เพื่อ random เลขระหว่าง 0 ถึง 1 แบบ uniform\n",
        "\n",
        "ถ้ามีสามทางเลือกที่เป็นไปได้ ที่มีความน่าจะเป็น\n",
        "\n",
        "[0.3, 0.2, 0.5]\n",
        "\n",
        "วิธีเลือกทางเลือกคือ ค่อยๆเช็คทีละทางเลือกว่าผลรวมความน่าจะเป็นเกินค่าที่ random　ได้แล้วหรือยัง\n",
        "\n",
        "เช่นถ้าเรา random　ได้ 0.677777 <br>\n",
        "0.67 มากกว่า 0.3 เพราะฉะนั้นเราจะไปเช็คทางเลือกถัดไป <br>\n",
        "0.67 มากกว่า 0.3+0.2 เพราะฉะนั้นเราจะไปเช็คทางเลือกถัดไป <br>\n",
        "0.67 น้อยกว่า 0.3+0.2+0.5 เพราะฉะนั้นเราจะเลือกทางเลือกนี้"
      ]
    },
    {
      "cell_type": "code",
      "metadata": {
        "id": "0vGeawqPzM0E"
      },
      "source": [
        "Transition = [\n",
        "    [ 0.05,   0.05,  0.1,   0.3,  0.02, 0.01,  0.07,  0.02,   0.1,   0.28],\n",
        "    [0.001, 0.0001, 0.05,   0.1, 0.002,  0.7, 0.001, 0.003, 0.001, 0.1419],\n",
        "    [0.002,  0.002, 0.02, 0.001, 0.001, 0.06, 0.002, 0.001,   0.5,  0.411],\n",
        "    [  0.1,    0.3, 0.01,   0.4, 0.001, 0.01, 0.001, 0.001, 0.001,  0.176],\n",
        "    [  0.1,    0.1, 0.01, 0.001, 0.001, 0.01, 0.001, 0.001, 0.003,  0.773],\n",
        "    [0.001,  0.001, 0.03, 0.001, 0.001, 0.02, 0.002, 0.001,   0.6,  0.343],\n",
        "    [  0.1,    0.1,  0.1,   0.1,   0.1,  0.1,   0.1,   0.1,   0.1,    0.1],\n",
        "    [0.001,  0.001, 0.01, 0.002,  0.01,  0.1,   0.1,   0.6,   0.1,  0.076],\n",
        "    [0.008,   0.08, 0.08,   0.1, 0.002,  0.2,  0.03,  0.03, 0.001,  0.469],\n",
        "    [  0.1,    0.1,  0.1,   0.1,   0.1,  0.1,   0.1,   0.1,   0.1,    0.1]\n",
        "]"
      ],
      "execution_count": null,
      "outputs": []
    },
    {
      "cell_type": "markdown",
      "metadata": {
        "id": "hZBFaJZUzM0H"
      },
      "source": [
        "คำตอบควรจะใกล้เคียงกับ [ 0.04761, 0.08005, 0.05864, 0.11245, 0.03299, 0.13203, 0.04749, 0.0875, 0.1527, 0.24854 ]"
      ]
    },
    {
      "cell_type": "code",
      "metadata": {
        "id": "nal-t8bbHZva"
      },
      "source": [
        "#เขียนโค้ดตรงนี้\n",
        "#ควรลองกับจำนวนการsimulateน้อยครั้งก่อน เพราะจะใช้เวลาทำงานหลายนาทีถ้ารันหนึ่งแสนครั้ง\n",
        "\n"
      ],
      "execution_count": null,
      "outputs": []
    },
    {
      "cell_type": "code",
      "metadata": {
        "id": "fcjGsNlNIYIi"
      },
      "source": [
        ""
      ],
      "execution_count": null,
      "outputs": []
    }
  ]
}