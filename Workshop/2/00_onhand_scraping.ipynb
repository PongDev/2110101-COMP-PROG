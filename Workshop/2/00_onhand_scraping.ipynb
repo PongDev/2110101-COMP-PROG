{
  "nbformat": 4,
  "nbformat_minor": 0,
  "metadata": {
    "kernelspec": {
      "display_name": "Python 3",
      "language": "python",
      "name": "python3"
    },
    "language_info": {
      "codemirror_mode": {
        "name": "ipython",
        "version": 3
      },
      "file_extension": ".py",
      "mimetype": "text/x-python",
      "name": "python",
      "nbconvert_exporter": "python",
      "pygments_lexer": "ipython3",
      "version": "3.6.2"
    },
    "colab": {
      "name": "00-onhand_scraping.ipynb",
      "provenance": [],
      "collapsed_sections": []
    }
  },
  "cells": [
    {
      "cell_type": "markdown",
      "metadata": {
        "id": "EsX9HcswkMhh",
        "colab_type": "text"
      },
      "source": [
        "# Workshop 2.1 : On hand web parsing\n",
        "Crawl data from https://www.chula.ac.th/en/academics/faculties-and-schools/\n",
        "\n",
        "<img src =\"https://github.com/Mixelon-tera/Workshop2_Datascraping_Resource/raw/master/source/intro_scraping.png\" width=\"800\">"
      ]
    },
    {
      "cell_type": "code",
      "metadata": {
        "id": "3pkX1wP3kMhi",
        "colab_type": "code",
        "colab": {}
      },
      "source": [
        "import urllib\n",
        "import urllib.request as urq\n",
        "import os\n",
        "\n",
        "dir_path = os.path.dirname(os.path.realpath(\"__file__\"))\n",
        "print(dir_path)"
      ],
      "execution_count": null,
      "outputs": []
    },
    {
      "cell_type": "markdown",
      "metadata": {
        "id": "F59BwNdMieQw",
        "colab_type": "text"
      },
      "source": [
        "### Tip! \n",
        " \n",
        "#### สำหรับเรื่อง string ในภาษา python ต้องระวังเรื่อง escape character เรามักจะใช้เครื่องหมาย \\ นำหน้า escape character ดังนี้\n",
        "\n",
        "<img src=\"https://i2.wp.com/www.techpaste.com/wp-content/uploads/2014/06/Escape_Characters_Python.jpg?fit=441%2C425&ssl=1\" width=400>"
      ]
    },
    {
      "cell_type": "markdown",
      "metadata": {
        "id": "9a5vdLTmkMhl",
        "colab_type": "text"
      },
      "source": [
        "# TO DO 1 : Crawl \"Faculty Name\" [only 19 faculties] (1%)"
      ]
    },
    {
      "cell_type": "markdown",
      "metadata": {
        "id": "UGZp9qD8kMhm",
        "colab_type": "text"
      },
      "source": [
        "Print all Faculty name in Chulalongkorn University\n",
        "and rint Number of Faculties like below image\n",
        "\n",
        "<img src=\"https://github.com/Mixelon-tera/Workshop2_Datascraping_Resource/raw/master/source/fac_name.png\" width=300>\n",
        "\n",
        "<img src=\"https://github.com/Mixelon-tera/Workshop2_Datascraping_Resource/raw/master/source/number_faculty.png\" width=300>"
      ]
    },
    {
      "cell_type": "code",
      "metadata": {
        "id": "tF2I-cQFkMhn",
        "colab_type": "code",
        "colab": {}
      },
      "source": [
        "# ---- TO DO 1 : Code Here ----\n",
        "\n",
        "\n",
        "url = 'https://www.chula.ac.th/en/academics/faculties-and-schools'\n",
        "\n",
        "html = str(urq.urlopen(url).read().decode('utf-8'))\n",
        "\n",
        "\n",
        "\n",
        "\n",
        "\n",
        "\n",
        "\n",
        "\n",
        "\n",
        "\n",
        "\n",
        "\n",
        "\n",
        "\n",
        "\n",
        "\n",
        "\n",
        "\n",
        "\n"
      ],
      "execution_count": null,
      "outputs": []
    },
    {
      "cell_type": "markdown",
      "metadata": {
        "id": "4J3G2YYEkMhq",
        "colab_type": "text"
      },
      "source": [
        "# TO DO 2 : Crawl \"Faculty and Schools Image\" [21 faculties and schools] (1%)\n",
        "\n",
        "Print image's url and save image into folder 'faculty_image'\n",
        "\n",
        "#### Hint : save images into -> dir_path+\"/faculty_image\"+faculty_name\n",
        "\n",
        "<img src=\"https://github.com/Mixelon-tera/Workshop2_Datascraping_Resource/raw/master/source/save_fac_img.png\" width=300>\n",
        "\n",
        "<img src=\"https://github.com/Mixelon-tera/Workshop2_Datascraping_Resource/raw/master/source/fac_img_link.png\" width=800>"
      ]
    },
    {
      "cell_type": "code",
      "metadata": {
        "id": "z7XGFlJ972N3",
        "colab_type": "code",
        "colab": {}
      },
      "source": [
        "#สร้าง folder ชื่อ faculty_image\n",
        "\n",
        "! mkdir faculty_image"
      ],
      "execution_count": null,
      "outputs": []
    },
    {
      "cell_type": "markdown",
      "metadata": {
        "id": "6egHZ54tTMX2",
        "colab_type": "text"
      },
      "source": [
        "### ขั้นตอนการอ่านและบันทึกไฟล์ภาพ\n",
        "\n",
        "1. อ่านภาพจากลิงค์\n",
        "* d = url.urlopen( [ลิงค์ของภาพ] )\n",
        "---\n",
        "2. สร้างไฟล์พร้อมระบุตำแหน่งที่จะเก็บไฟล์ภาพ \n",
        "* l = open( [ระบุตำแหน่งที่จะเก็บภาพ] )\n",
        "---\n",
        "\n",
        "3. บันทึกข้อมูลภาพไปยังตำแหน่งที่เก็บไฟล์ตามที่ระบุไว้ในข้อ (2.)\n",
        "* l.write(d.read())\n",
        "---\n",
        "\n",
        "4. ปิดไฟล์\n",
        "* l.close()\n",
        "---\n"
      ]
    },
    {
      "cell_type": "code",
      "metadata": {
        "id": "2JSrIjIHkMhq",
        "colab_type": "code",
        "colab": {}
      },
      "source": [
        "# ---- TO DO 2 : Code Here ----\n",
        "\n",
        "\n",
        "\n",
        "\n",
        "\n",
        "\n",
        "\n",
        "\n",
        "\n",
        "\n",
        "\n",
        "\n",
        "\n",
        "\n",
        "\n",
        "\n",
        "\n",
        "\n"
      ],
      "execution_count": null,
      "outputs": []
    },
    {
      "cell_type": "markdown",
      "metadata": {
        "id": "wu9Lq8EYm_4O",
        "colab_type": "text"
      },
      "source": [
        "# TO DO 3 : Crawl \"Faculty Telephone Number\" [19 Faculties] (1%)\n",
        "\n",
        "Print Tel. of each faculty in Chulalongkorn University \n",
        "\n",
        "*** Only Faculty ***\n",
        "\n",
        "<img src=\"https://github.com/thcktw/Workshop2_Datascraping_Resource/raw/master/source/fac_tel.png\" width=300>"
      ]
    },
    {
      "cell_type": "code",
      "metadata": {
        "id": "7CUSb9KvkMht",
        "colab_type": "code",
        "colab": {}
      },
      "source": [
        "# ---- TO DO 3 : Code Here ----\n",
        "\n",
        "\n",
        "\n",
        "\n",
        "\n",
        "\n",
        "\n",
        "\n",
        "\n",
        "\n",
        "\n",
        "\n",
        "\n",
        "\n",
        "\n",
        "\n",
        "\n",
        "\n",
        "\n",
        "\n"
      ],
      "execution_count": null,
      "outputs": []
    },
    {
      "cell_type": "markdown",
      "metadata": {
        "id": "O6qXu-BSkMhv",
        "colab_type": "text"
      },
      "source": [
        "# Extra score (1%)\n",
        "\n",
        "Current Faculty Members and Retired Faculty Members\n",
        "\n",
        "from https://www.cp.eng.chula.ac.th/en/about/faculty/\n",
        "\n",
        "*** Crawl only active members that have image ***\n",
        "\n",
        "<img src=\"https://github.com/thcktw/Workshop2_Datascraping_Resource/raw/master/source/crawl_fac_member.png\" width=300>"
      ]
    },
    {
      "cell_type": "code",
      "metadata": {
        "id": "DSh-mDUckMhw",
        "colab_type": "code",
        "colab": {}
      },
      "source": [
        "# ---- TO DO 4 : Code Here ----\n",
        "\n",
        "\n",
        "\n",
        "\n",
        "\n",
        "\n",
        "\n",
        "\n",
        "\n",
        "\n",
        "\n",
        "\n",
        "\n",
        "\n",
        "\n",
        "\n",
        "\n",
        "\n",
        "\n",
        "\n"
      ],
      "execution_count": null,
      "outputs": []
    },
    {
      "cell_type": "markdown",
      "metadata": {
        "id": "fmL5uX5RWp2f",
        "colab_type": "text"
      },
      "source": [
        "# Optional\n",
        "\n",
        "ทดลองดึงข้อมูลจาก dek-d.com ดูสิ :)"
      ]
    },
    {
      "cell_type": "code",
      "metadata": {
        "id": "6r8NQmAYkMhy",
        "colab_type": "code",
        "colab": {}
      },
      "source": [
        "dd_url = 'https://www.dek-d.com/home/writer/'"
      ],
      "execution_count": null,
      "outputs": []
    },
    {
      "cell_type": "markdown",
      "metadata": {
        "id": "kAFkUJU0YCaF",
        "colab_type": "text"
      },
      "source": [
        "ลองรันโค๊ดบรรทัดด้านล่างดู"
      ]
    },
    {
      "cell_type": "code",
      "metadata": {
        "id": "GVrU9jG0XjvF",
        "colab_type": "code",
        "colab": {}
      },
      "source": [
        "html = str(urq.urlopen(dd_url).read().decode('utf-8'))"
      ],
      "execution_count": null,
      "outputs": []
    },
    {
      "cell_type": "markdown",
      "metadata": {
        "id": "O9G_ZbZsYMUh",
        "colab_type": "text"
      },
      "source": [
        "จะพบว่าเกิด error ขึ้นเนื่องจากเว็บ dek-d มีการป้องกันไว้ \n",
        "\n",
        "หากเราต้อง scrape จะต้องส่ง user-agent เช่น Web-browser, Accept-Charset, Accept-Encoding เป็นต้น เพื่อหลอกเว็บไซต์ว่าเรากำลังใช้เว็บในการ request ข้อมูลเพจ"
      ]
    },
    {
      "cell_type": "code",
      "metadata": {
        "id": "WeVk4zsWZLZ0",
        "colab_type": "code",
        "colab": {}
      },
      "source": [
        "headers={'User-Agent': 'Mozilla/5.0 (Windows; U; Windows NT 5.1; en-US; rv:1.9.0.7) Gecko/2009021910 Firefox/3.0.7'} \n",
        "\n",
        "\n",
        "dd_request = urq.Request(dd_url,None,headers) \n",
        "dd_html = str(urq.urlopen(dd_request).read().decode('utf-8'))"
      ],
      "execution_count": null,
      "outputs": []
    },
    {
      "cell_type": "markdown",
      "metadata": {
        "id": "HNO0U9aYf0Id",
        "colab_type": "text"
      },
      "source": [
        "ลองดึงข้อมูล title นิยายจากเว็บ https://www.dek-d.com/home/writer/ ดูสิ!!!\n",
        "\n",
        "\n",
        "#### ตัวอย่าง output \n",
        "\n",
        "<img src=\"https://github.com/Mixelon-tera/Workshop2_Datascraping_Resource/raw/master/source/dek_d_fiction.png\" width=400>"
      ]
    },
    {
      "cell_type": "code",
      "metadata": {
        "id": "OQjDoNJKXESX",
        "colab_type": "code",
        "colab": {}
      },
      "source": [
        "# ---- OPTIONAL : Code Here ----\n",
        "\n",
        "\n",
        "\n",
        "\n",
        "\n",
        "\n",
        "\n",
        "\n",
        "\n",
        "\n",
        "\n",
        "\n",
        "\n"
      ],
      "execution_count": null,
      "outputs": []
    },
    {
      "cell_type": "code",
      "metadata": {
        "id": "sGP98yANbpsl",
        "colab_type": "code",
        "colab": {}
      },
      "source": [
        ""
      ],
      "execution_count": null,
      "outputs": []
    }
  ]
}