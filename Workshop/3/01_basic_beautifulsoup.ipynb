{
  "nbformat": 4,
  "nbformat_minor": 0,
  "metadata": {
    "colab": {
      "name": "01-basic_beautifulsoup.ipynb",
      "provenance": [],
      "private_outputs": true,
      "collapsed_sections": []
    },
    "kernelspec": {
      "display_name": "Python 3",
      "language": "python",
      "name": "python3"
    },
    "language_info": {
      "codemirror_mode": {
        "name": "ipython",
        "version": 3
      },
      "file_extension": ".py",
      "mimetype": "text/x-python",
      "name": "python",
      "nbconvert_exporter": "python",
      "pygments_lexer": "ipython3",
      "version": "3.7.4"
    }
  },
  "cells": [
    {
      "cell_type": "markdown",
      "metadata": {
        "id": "gCWJQ2rP3IQd",
        "colab_type": "text"
      },
      "source": [
        "# Beautiful Soup\n",
        "\n",
        "BeautifulSoup คือ Python library สำหรับดึงข้อมูลหน้าเว็บไซต์ หรือ HTML ซึ่งเป็นตัว Parser ทำให้ผู้ใช้สามารถจัดการข้อมูลหน้าเว็บได้ง่ายและรวดเร็ว\n",
        "https://www.crummy.com/software/BeautifulSoup/bs4/doc/"
      ]
    },
    {
      "cell_type": "code",
      "metadata": {
        "id": "qVgNJXbQiiiX",
        "colab_type": "code",
        "colab": {}
      },
      "source": [
        "from bs4 import BeautifulSoup\n",
        "\n",
        "example = '''\n",
        "<body>\n",
        "  <h1>aHeader</h1>\n",
        "  <div class=\"section1\">\n",
        "    <p>\n",
        "      <a href=\"#\">aLink</a>\n",
        "    </p>\n",
        "  </div>\n",
        "  <div class=\"section2\">\n",
        "    <img src=\"img.jpg\"/>\n",
        "  </div>\n",
        "</body>\n",
        "'''\n",
        "\n",
        "s = BeautifulSoup(example, 'html.parser')\n",
        "print(s)"
      ],
      "execution_count": null,
      "outputs": []
    },
    {
      "cell_type": "markdown",
      "metadata": {
        "id": "KFvxpDZTiiia",
        "colab_type": "text"
      },
      "source": [
        "การใช้งานฟังก์ชัน .prettify() จะช่วยจัดหน้า html ให้มีความสวยงามและเป็นระเบียบมากขึ้น"
      ]
    },
    {
      "cell_type": "code",
      "metadata": {
        "id": "jOJKccPXiiib",
        "colab_type": "code",
        "colab": {}
      },
      "source": [
        "#ลองรันดูสิ สวยขึ้นกว่าเดิมเยอะเลย\n",
        "\n",
        "print(s.prettify()) "
      ],
      "execution_count": null,
      "outputs": []
    },
    {
      "cell_type": "markdown",
      "metadata": {
        "id": "-8Vkl_Ktiiid",
        "colab_type": "text"
      },
      "source": [
        "ถ้าต้องการแสดงผลเฉพาะส่วน body เพียงแค่ใส่ .body ก็จะได้ข้อมูลส่วน body"
      ]
    },
    {
      "cell_type": "code",
      "metadata": {
        "colab_type": "code",
        "id": "s2fahwUI0xwt",
        "colab": {}
      },
      "source": [
        "s.body"
      ],
      "execution_count": null,
      "outputs": []
    },
    {
      "cell_type": "markdown",
      "metadata": {
        "id": "HYuOhdA3iiih",
        "colab_type": "text"
      },
      "source": [
        "ถ้าหากต้องการ tag ที่เป็น h1 สามารถใช้คำสั่ง .h1 ได้ หรืออาจจะใช้ฟังก์ชัน .find('h1') ก็ได้เหมือนกัน"
      ]
    },
    {
      "cell_type": "code",
      "metadata": {
        "colab_type": "code",
        "id": "scijow1j0xwy",
        "colab": {}
      },
      "source": [
        "s.h1\n",
        "#s.find('h1')"
      ],
      "execution_count": null,
      "outputs": []
    },
    {
      "cell_type": "markdown",
      "metadata": {
        "id": "SdhlAewOiiik",
        "colab_type": "text"
      },
      "source": [
        "โดยปกติแล้วถ้าใช้ .ตามด้วยชื่อ tag เราจะได้ tag แรกสุดที่เจอเท่านั้น"
      ]
    },
    {
      "cell_type": "code",
      "metadata": {
        "colab_type": "code",
        "id": "zIMH1UX90xw2",
        "colab": {}
      },
      "source": [
        "s.div\n",
        "# s.find('div')"
      ],
      "execution_count": null,
      "outputs": []
    },
    {
      "cell_type": "markdown",
      "metadata": {
        "id": "YLQBywASiiio",
        "colab_type": "text"
      },
      "source": [
        "ถ้าต้องการหา tag ทั้งหมดสามารถทำได้โดยใช้ ('div) หรืออาจจะใช้ฟังก์ชัน .find_all('div) ก็ได้เหมือนกัน (return กลับมาเป็น list)"
      ]
    },
    {
      "cell_type": "code",
      "metadata": {
        "colab_type": "code",
        "id": "KEtkQFO_0xw6",
        "colab": {}
      },
      "source": [
        "s('div')\n",
        "# s.find_all('div')"
      ],
      "execution_count": null,
      "outputs": []
    },
    {
      "cell_type": "code",
      "metadata": {
        "colab_type": "code",
        "id": "27cfk97m0xw-",
        "colab": {}
      },
      "source": [
        "s('div')[1]"
      ],
      "execution_count": null,
      "outputs": []
    },
    {
      "cell_type": "markdown",
      "metadata": {
        "id": "0BKj9cqYiiiw",
        "colab_type": "text"
      },
      "source": [
        "เราสามารถใช้ฟังก์ชัน .find ในการหา tag ที่เราต้องการด้วย string , attribute , หรือ class ที่ต้องการได้"
      ]
    },
    {
      "cell_type": "code",
      "metadata": {
        "colab_type": "code",
        "id": "OiHN7OSB0xxA",
        "colab": {}
      },
      "source": [
        "#ลองไล่ uncomment แล้วรันดูทีละคำสั่ง\n",
        "\n",
        "s.find(string='aHeader')\n",
        "#s.find('h1', string='aHeader')\n",
        "#s.find(attrs={'class': 'section1'})\n",
        "#s.find(class_='section1')"
      ],
      "execution_count": null,
      "outputs": []
    },
    {
      "cell_type": "code",
      "metadata": {
        "colab_type": "code",
        "id": "h3atpKp90xxC",
        "colab": {}
      },
      "source": [
        "#ลองเล่นทีละคำสั่งดูสิ\n",
        "\n",
        "s.div.name\n",
        "s.div.text\n",
        "s.div.parent\n",
        "s.div.previous_sibling # ทำไม?\n",
        "s.div.previous_sibling.previous_sibling\n",
        "s.div.next_sibling # ทำไม?\n",
        "s.div.next_sibling.next_sibling\n",
        "s.div.contents \n",
        "s.div.next_element # ทำไม?\n",
        "s.div.next_element.next_element"
      ],
      "execution_count": null,
      "outputs": []
    },
    {
      "cell_type": "code",
      "metadata": {
        "colab_type": "code",
        "id": "MqrlBPsC0xxF",
        "colab": {}
      },
      "source": [
        "s.div.find_previous_sibling()\n",
        "s.div.find_next_sibling()"
      ],
      "execution_count": null,
      "outputs": []
    },
    {
      "cell_type": "code",
      "metadata": {
        "colab_type": "code",
        "id": "ToGluLPX0xxI",
        "colab": {}
      },
      "source": [
        "s.a.find_next_sibling()\n",
        "# None\n",
        "\n",
        "s.a.find_next()\n",
        "s.a.find_next('img')\n",
        "# s.a.find_parent('div')\n",
        "# s.a.find_parent('body')"
      ],
      "execution_count": null,
      "outputs": []
    },
    {
      "cell_type": "code",
      "metadata": {
        "colab_type": "code",
        "id": "mNVWCaOq0xxK",
        "colab": {}
      },
      "source": [
        "s.find('div', class_='section2') \\\n",
        "  .find_previous_sibling('h1')"
      ],
      "execution_count": null,
      "outputs": []
    },
    {
      "cell_type": "code",
      "metadata": {
        "id": "CpTsRH3_iijA",
        "colab_type": "code",
        "colab": {}
      },
      "source": [
        ""
      ],
      "execution_count": null,
      "outputs": []
    }
  ]
}